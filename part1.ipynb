{
 "cells": [
  {
   "cell_type": "code",
   "execution_count": 2,
   "metadata": {},
   "outputs": [],
   "source": [
    "### BEGIN Solution (do not delete this comment!)\n",
    "\n",
    "# >>> your imports here <<<\n",
    "\n",
    "import torch\n",
    "import torch.nn as nn\n",
    "import torchvision\n",
    "from torchvision import transforms as T\n",
    "from torch.utils.data import Dataset, DataLoader\n",
    "from matplotlib import pyplot as plt\n",
    "import numpy as np\n",
    "import time\n",
    "from tqdm import tqdm\n",
    "from torchvision.models import resnet34, vgg16\n",
    "\n",
    "### END Solution (do not delete this comment!)"
   ]
  },
  {
   "cell_type": "code",
   "execution_count": 3,
   "metadata": {},
   "outputs": [
    {
     "name": "stdout",
     "output_type": "stream",
     "text": [
      "Files already downloaded and verified\n",
      "Files already downloaded and verified\n",
      "Train size 50000\n",
      "Test size 10000\n"
     ]
    }
   ],
   "source": [
    "### BEGIN Solution (do not delete this comment)\n",
    "\n",
    "train_transform = T.Compose([T.RandomHorizontalFlip(), \n",
    "                             T.ToTensor(),\n",
    "                             T.Normalize((0.5, 0.5, 0.5), (0.5, 0.5, 0.5))])\n",
    "test_transform = T.Compose([T.ToTensor(),\n",
    "                             T.Normalize((0.5, 0.5, 0.5), (0.5, 0.5, 0.5))])\n",
    "\n",
    "train_set = torchvision.datasets.CIFAR10(root='./data', train=True, download=True, transform=train_transform)\n",
    "train_loader = DataLoader(dataset=train_set, batch_size=128, shuffle=True, num_workers=2)\n",
    "\n",
    "test_set = torchvision.datasets.CIFAR10(root='./data', train=False, download=True, transform=test_transform)\n",
    "test_loader = DataLoader(dataset=test_set, batch_size=128, shuffle=False, num_workers=2)\n",
    "\n",
    "### END Solution (do not delete this comment)\n",
    "\n",
    "classes = ('plane', 'car', 'bird', 'cat', 'deer', 'dog', 'frog', 'horse', 'ship', 'truck')\n",
    "\n",
    "print('Train size', len(train_set))\n",
    "print('Test size', len(test_set))"
   ]
  },
  {
   "cell_type": "code",
   "execution_count": 6,
   "metadata": {},
   "outputs": [],
   "source": [
    "def epoch_train(loader, clf, criterion, opt):\n",
    "    # BEGIN Solution (do not delete this comment!)\n",
    "    \n",
    "    final_loss = 0\n",
    "    final_accuracy = 0\n",
    "    for image, label in loader:\n",
    "        image = image.cuda()\n",
    "        label = label.cuda()\n",
    "        pred = clf(image)\n",
    "        loss = criterion(pred, label)\n",
    "        opt.zero_grad()\n",
    "        loss.backward()\n",
    "        opt.step()\n",
    "        \n",
    "        final_loss += loss.item() * len(image)\n",
    "        value, max_idx = torch.max(pred, dim=1)\n",
    "        final_accuracy += torch.sum(max_idx == label)\n",
    "    final_loss = final_loss / len(loader.dataset)\n",
    "    final_accuracy = final_accuracy / len(loader.dataset)\n",
    "    return final_loss, final_accuracy\n",
    "    # END Solution (do not delete this comment!)\n",
    "\n",
    "def epoch_test(loader, clf, criterion):\n",
    "    # BEGIN Solution (do not delete this comment!)\n",
    "    \n",
    "    final_loss = 0\n",
    "    final_accuracy = 0\n",
    "    for image, label in loader:\n",
    "        image = image.cuda()\n",
    "        label = label.cuda()\n",
    "        pred = clf(image)\n",
    "        loss = criterion(pred, label)\n",
    "        \n",
    "        final_loss += loss.item() * len(image)\n",
    "        value, max_idx = torch.max(pred, dim=1)\n",
    "        final_accuracy += torch.sum(max_idx == label)\n",
    "    final_loss = final_loss / len(loader.dataset)\n",
    "    final_accuracy = final_accuracy / len(loader.dataset)\n",
    "    return final_loss, final_accuracy\n",
    "\n",
    "    # END Solution (do not delete this comment!)\n",
    "\n",
    "# The function which you are going to use for model training\n",
    "def train(train_loader, test_loader, clf, criterion, opt, n_epochs=50):\n",
    "    for epoch in tqdm(range(n_epochs)):\n",
    "        train_loss, train_acc = epoch_train(train_loader, clf, criterion, opt)\n",
    "        test_loss, test_acc = epoch_test(test_loader, clf, criterion)\n",
    "\n",
    "        print(f'[Epoch {epoch + 1}] train loss: {train_loss:.3f}; train acc: {train_acc:.2f}; ' + \n",
    "              f'test loss: {test_loss:.3f}; test acc: {test_acc:.2f}')"
   ]
  },
  {
   "attachments": {},
   "cell_type": "markdown",
   "metadata": {},
   "source": [
    "### Subtask 2.5. PyTorch classifier  ($\\geq$83%)\n",
    "**2.5.1)** After struggling to build the network manually, let us just import a pre-defined neural network architecture from `PyTorch` and train it. Take a look at the available [models](https://pytorch.org/vision/stable/models.html) of `torchvision.models`, pick the one you want and make it achieve $\\geq 83$% **test accuracy**. We recommend to consider `VGG` or `ResNet` models. You **should not** use `pretrained=True` -- you job is to train the model from scratch.\n",
    "\n",
    "An image of ResNet-34, plain and VGG-16 architectures.\n",
    "\n",
    "![telegram-cloud-photo-size-4-5844643573331503502-w.jpg](attachment:telegram-cloud-photo-size-4-5844643573331503502-w.jpg)\n",
    "\n",
    "<!-- <img width=750 src=\"https://miro.medium.com/max/1400/1*6hF97Upuqg_LdsqWY6n_wg.png\"> -->"
   ]
  },
  {
   "cell_type": "code",
   "execution_count": 8,
   "metadata": {},
   "outputs": [],
   "source": [
    "# BEGIN Solution (do not delete this comment!)\n",
    "\n",
    "# >>> your solution here <<<\n",
    "\n",
    "clf = vgg16(pretrained=False)\n",
    "clf.classifier[-1] = nn.Linear(in_features=4096, out_features=10)\n",
    "clf.cuda()\n",
    "\n",
    "opt = torch.optim.SGD(clf.parameters(), lr=1e-2, weight_decay=0.0005)\n",
    "criterion = nn.CrossEntropyLoss()\n",
    "\n",
    "# END Solution (do not delete this comment!)"
   ]
  },
  {
   "cell_type": "code",
   "execution_count": 9,
   "metadata": {},
   "outputs": [
    {
     "name": "stderr",
     "output_type": "stream",
     "text": [
      "  2%|▎         | 1/40 [00:29<18:54, 29.10s/it]"
     ]
    },
    {
     "name": "stdout",
     "output_type": "stream",
     "text": [
      "[Epoch 1] train loss: 2.299; train acc: 0.10; test loss: 2.294; test acc: 0.10\n"
     ]
    },
    {
     "name": "stderr",
     "output_type": "stream",
     "text": [
      "  5%|▌         | 2/40 [00:57<18:03, 28.50s/it]"
     ]
    },
    {
     "name": "stdout",
     "output_type": "stream",
     "text": [
      "[Epoch 2] train loss: 2.223; train acc: 0.14; test loss: 2.061; test acc: 0.23\n"
     ]
    },
    {
     "name": "stderr",
     "output_type": "stream",
     "text": [
      "  8%|▊         | 3/40 [01:25<17:29, 28.37s/it]"
     ]
    },
    {
     "name": "stdout",
     "output_type": "stream",
     "text": [
      "[Epoch 3] train loss: 1.957; train acc: 0.26; test loss: 1.815; test acc: 0.31\n"
     ]
    },
    {
     "name": "stderr",
     "output_type": "stream",
     "text": [
      " 10%|█         | 4/40 [01:53<16:59, 28.32s/it]"
     ]
    },
    {
     "name": "stdout",
     "output_type": "stream",
     "text": [
      "[Epoch 4] train loss: 1.745; train acc: 0.34; test loss: 1.616; test acc: 0.39\n"
     ]
    },
    {
     "name": "stderr",
     "output_type": "stream",
     "text": [
      " 12%|█▎        | 5/40 [02:21<16:30, 28.30s/it]"
     ]
    },
    {
     "name": "stdout",
     "output_type": "stream",
     "text": [
      "[Epoch 5] train loss: 1.601; train acc: 0.40; test loss: 1.563; test acc: 0.41\n"
     ]
    },
    {
     "name": "stderr",
     "output_type": "stream",
     "text": [
      " 15%|█▌        | 6/40 [02:50<16:01, 28.29s/it]"
     ]
    },
    {
     "name": "stdout",
     "output_type": "stream",
     "text": [
      "[Epoch 6] train loss: 1.502; train acc: 0.44; test loss: 1.420; test acc: 0.47\n"
     ]
    },
    {
     "name": "stderr",
     "output_type": "stream",
     "text": [
      " 18%|█▊        | 7/40 [03:18<15:33, 28.30s/it]"
     ]
    },
    {
     "name": "stdout",
     "output_type": "stream",
     "text": [
      "[Epoch 7] train loss: 1.418; train acc: 0.47; test loss: 1.368; test acc: 0.50\n"
     ]
    },
    {
     "name": "stderr",
     "output_type": "stream",
     "text": [
      " 20%|██        | 8/40 [03:46<15:05, 28.29s/it]"
     ]
    },
    {
     "name": "stdout",
     "output_type": "stream",
     "text": [
      "[Epoch 8] train loss: 1.322; train acc: 0.51; test loss: 1.304; test acc: 0.52\n"
     ]
    },
    {
     "name": "stderr",
     "output_type": "stream",
     "text": [
      " 22%|██▎       | 9/40 [04:15<14:37, 28.30s/it]"
     ]
    },
    {
     "name": "stdout",
     "output_type": "stream",
     "text": [
      "[Epoch 9] train loss: 1.239; train acc: 0.55; test loss: 1.187; test acc: 0.58\n"
     ]
    },
    {
     "name": "stderr",
     "output_type": "stream",
     "text": [
      " 25%|██▌       | 10/40 [04:43<14:09, 28.32s/it]"
     ]
    },
    {
     "name": "stdout",
     "output_type": "stream",
     "text": [
      "[Epoch 10] train loss: 1.168; train acc: 0.57; test loss: 1.144; test acc: 0.58\n"
     ]
    },
    {
     "name": "stderr",
     "output_type": "stream",
     "text": [
      " 28%|██▊       | 11/40 [05:11<13:41, 28.33s/it]"
     ]
    },
    {
     "name": "stdout",
     "output_type": "stream",
     "text": [
      "[Epoch 11] train loss: 1.094; train acc: 0.60; test loss: 1.096; test acc: 0.60\n"
     ]
    },
    {
     "name": "stderr",
     "output_type": "stream",
     "text": [
      " 30%|███       | 12/40 [05:40<13:13, 28.33s/it]"
     ]
    },
    {
     "name": "stdout",
     "output_type": "stream",
     "text": [
      "[Epoch 12] train loss: 1.030; train acc: 0.63; test loss: 0.992; test acc: 0.64\n"
     ]
    },
    {
     "name": "stderr",
     "output_type": "stream",
     "text": [
      " 32%|███▎      | 13/40 [06:08<12:45, 28.35s/it]"
     ]
    },
    {
     "name": "stdout",
     "output_type": "stream",
     "text": [
      "[Epoch 13] train loss: 0.969; train acc: 0.65; test loss: 1.018; test acc: 0.63\n"
     ]
    },
    {
     "name": "stderr",
     "output_type": "stream",
     "text": [
      " 35%|███▌      | 14/40 [06:36<12:17, 28.36s/it]"
     ]
    },
    {
     "name": "stdout",
     "output_type": "stream",
     "text": [
      "[Epoch 14] train loss: 0.911; train acc: 0.67; test loss: 1.038; test acc: 0.64\n"
     ]
    },
    {
     "name": "stderr",
     "output_type": "stream",
     "text": [
      " 38%|███▊      | 15/40 [07:05<11:49, 28.37s/it]"
     ]
    },
    {
     "name": "stdout",
     "output_type": "stream",
     "text": [
      "[Epoch 15] train loss: 0.861; train acc: 0.69; test loss: 1.069; test acc: 0.63\n"
     ]
    },
    {
     "name": "stderr",
     "output_type": "stream",
     "text": [
      " 40%|████      | 16/40 [07:33<11:21, 28.38s/it]"
     ]
    },
    {
     "name": "stdout",
     "output_type": "stream",
     "text": [
      "[Epoch 16] train loss: 0.805; train acc: 0.71; test loss: 0.987; test acc: 0.67\n"
     ]
    },
    {
     "name": "stderr",
     "output_type": "stream",
     "text": [
      " 42%|████▎     | 17/40 [08:02<10:52, 28.38s/it]"
     ]
    },
    {
     "name": "stdout",
     "output_type": "stream",
     "text": [
      "[Epoch 17] train loss: 0.759; train acc: 0.73; test loss: 0.881; test acc: 0.69\n"
     ]
    },
    {
     "name": "stderr",
     "output_type": "stream",
     "text": [
      " 45%|████▌     | 18/40 [08:30<10:24, 28.39s/it]"
     ]
    },
    {
     "name": "stdout",
     "output_type": "stream",
     "text": [
      "[Epoch 18] train loss: 0.711; train acc: 0.75; test loss: 0.779; test acc: 0.73\n"
     ]
    },
    {
     "name": "stderr",
     "output_type": "stream",
     "text": [
      " 48%|████▊     | 19/40 [08:58<09:56, 28.39s/it]"
     ]
    },
    {
     "name": "stdout",
     "output_type": "stream",
     "text": [
      "[Epoch 19] train loss: 0.671; train acc: 0.76; test loss: 0.824; test acc: 0.72\n"
     ]
    },
    {
     "name": "stderr",
     "output_type": "stream",
     "text": [
      " 50%|█████     | 20/40 [09:27<09:28, 28.41s/it]"
     ]
    },
    {
     "name": "stdout",
     "output_type": "stream",
     "text": [
      "[Epoch 20] train loss: 0.629; train acc: 0.78; test loss: 0.827; test acc: 0.72\n"
     ]
    },
    {
     "name": "stderr",
     "output_type": "stream",
     "text": [
      " 52%|█████▎    | 21/40 [09:55<08:59, 28.41s/it]"
     ]
    },
    {
     "name": "stdout",
     "output_type": "stream",
     "text": [
      "[Epoch 21] train loss: 0.587; train acc: 0.79; test loss: 0.823; test acc: 0.73\n"
     ]
    },
    {
     "name": "stderr",
     "output_type": "stream",
     "text": [
      " 55%|█████▌    | 22/40 [10:24<08:31, 28.41s/it]"
     ]
    },
    {
     "name": "stdout",
     "output_type": "stream",
     "text": [
      "[Epoch 22] train loss: 0.552; train acc: 0.81; test loss: 0.742; test acc: 0.74\n"
     ]
    },
    {
     "name": "stderr",
     "output_type": "stream",
     "text": [
      " 57%|█████▊    | 23/40 [10:52<08:02, 28.41s/it]"
     ]
    },
    {
     "name": "stdout",
     "output_type": "stream",
     "text": [
      "[Epoch 23] train loss: 0.524; train acc: 0.82; test loss: 0.795; test acc: 0.74\n"
     ]
    },
    {
     "name": "stderr",
     "output_type": "stream",
     "text": [
      " 60%|██████    | 24/40 [11:21<07:34, 28.42s/it]"
     ]
    },
    {
     "name": "stdout",
     "output_type": "stream",
     "text": [
      "[Epoch 24] train loss: 0.488; train acc: 0.83; test loss: 0.736; test acc: 0.75\n"
     ]
    },
    {
     "name": "stderr",
     "output_type": "stream",
     "text": [
      " 62%|██████▎   | 25/40 [11:49<07:06, 28.42s/it]"
     ]
    },
    {
     "name": "stdout",
     "output_type": "stream",
     "text": [
      "[Epoch 25] train loss: 0.451; train acc: 0.84; test loss: 0.729; test acc: 0.76\n"
     ]
    },
    {
     "name": "stderr",
     "output_type": "stream",
     "text": [
      " 65%|██████▌   | 26/40 [12:17<06:37, 28.42s/it]"
     ]
    },
    {
     "name": "stdout",
     "output_type": "stream",
     "text": [
      "[Epoch 26] train loss: 0.423; train acc: 0.85; test loss: 0.812; test acc: 0.74\n"
     ]
    },
    {
     "name": "stderr",
     "output_type": "stream",
     "text": [
      " 68%|██████▊   | 27/40 [12:46<06:09, 28.43s/it]"
     ]
    },
    {
     "name": "stdout",
     "output_type": "stream",
     "text": [
      "[Epoch 27] train loss: 0.391; train acc: 0.86; test loss: 0.752; test acc: 0.77\n"
     ]
    },
    {
     "name": "stderr",
     "output_type": "stream",
     "text": [
      " 70%|███████   | 28/40 [13:14<05:41, 28.43s/it]"
     ]
    },
    {
     "name": "stdout",
     "output_type": "stream",
     "text": [
      "[Epoch 28] train loss: 0.364; train acc: 0.87; test loss: 0.769; test acc: 0.76\n"
     ]
    },
    {
     "name": "stderr",
     "output_type": "stream",
     "text": [
      " 72%|███████▎  | 29/40 [13:43<05:12, 28.42s/it]"
     ]
    },
    {
     "name": "stdout",
     "output_type": "stream",
     "text": [
      "[Epoch 29] train loss: 0.337; train acc: 0.88; test loss: 0.763; test acc: 0.76\n"
     ]
    },
    {
     "name": "stderr",
     "output_type": "stream",
     "text": [
      " 75%|███████▌  | 30/40 [14:11<04:44, 28.43s/it]"
     ]
    },
    {
     "name": "stdout",
     "output_type": "stream",
     "text": [
      "[Epoch 30] train loss: 0.312; train acc: 0.89; test loss: 0.752; test acc: 0.77\n"
     ]
    },
    {
     "name": "stderr",
     "output_type": "stream",
     "text": [
      " 78%|███████▊  | 31/40 [14:40<04:15, 28.44s/it]"
     ]
    },
    {
     "name": "stdout",
     "output_type": "stream",
     "text": [
      "[Epoch 31] train loss: 0.280; train acc: 0.90; test loss: 0.857; test acc: 0.76\n"
     ]
    },
    {
     "name": "stderr",
     "output_type": "stream",
     "text": [
      " 80%|████████  | 32/40 [15:08<03:47, 28.43s/it]"
     ]
    },
    {
     "name": "stdout",
     "output_type": "stream",
     "text": [
      "[Epoch 32] train loss: 0.265; train acc: 0.91; test loss: 0.767; test acc: 0.77\n"
     ]
    },
    {
     "name": "stderr",
     "output_type": "stream",
     "text": [
      " 82%|████████▎ | 33/40 [15:36<03:19, 28.43s/it]"
     ]
    },
    {
     "name": "stdout",
     "output_type": "stream",
     "text": [
      "[Epoch 33] train loss: 0.233; train acc: 0.92; test loss: 1.204; test acc: 0.70\n"
     ]
    },
    {
     "name": "stderr",
     "output_type": "stream",
     "text": [
      " 85%|████████▌ | 34/40 [16:05<02:50, 28.42s/it]"
     ]
    },
    {
     "name": "stdout",
     "output_type": "stream",
     "text": [
      "[Epoch 34] train loss: 0.220; train acc: 0.92; test loss: 0.836; test acc: 0.77\n"
     ]
    },
    {
     "name": "stderr",
     "output_type": "stream",
     "text": [
      " 88%|████████▊ | 35/40 [16:33<02:22, 28.42s/it]"
     ]
    },
    {
     "name": "stdout",
     "output_type": "stream",
     "text": [
      "[Epoch 35] train loss: 0.205; train acc: 0.93; test loss: 0.875; test acc: 0.76\n"
     ]
    },
    {
     "name": "stderr",
     "output_type": "stream",
     "text": [
      " 90%|█████████ | 36/40 [17:02<01:53, 28.42s/it]"
     ]
    },
    {
     "name": "stdout",
     "output_type": "stream",
     "text": [
      "[Epoch 36] train loss: 0.180; train acc: 0.94; test loss: 0.908; test acc: 0.76\n"
     ]
    },
    {
     "name": "stderr",
     "output_type": "stream",
     "text": [
      " 92%|█████████▎| 37/40 [17:30<01:25, 28.42s/it]"
     ]
    },
    {
     "name": "stdout",
     "output_type": "stream",
     "text": [
      "[Epoch 37] train loss: 0.164; train acc: 0.94; test loss: 0.880; test acc: 0.78\n"
     ]
    },
    {
     "name": "stderr",
     "output_type": "stream",
     "text": [
      " 95%|█████████▌| 38/40 [17:58<00:56, 28.41s/it]"
     ]
    },
    {
     "name": "stdout",
     "output_type": "stream",
     "text": [
      "[Epoch 38] train loss: 0.152; train acc: 0.95; test loss: 0.931; test acc: 0.76\n"
     ]
    },
    {
     "name": "stderr",
     "output_type": "stream",
     "text": [
      " 98%|█████████▊| 39/40 [18:27<00:28, 28.42s/it]"
     ]
    },
    {
     "name": "stdout",
     "output_type": "stream",
     "text": [
      "[Epoch 39] train loss: 0.138; train acc: 0.95; test loss: 0.906; test acc: 0.77\n"
     ]
    },
    {
     "name": "stderr",
     "output_type": "stream",
     "text": [
      "100%|██████████| 40/40 [18:55<00:00, 28.40s/it]"
     ]
    },
    {
     "name": "stdout",
     "output_type": "stream",
     "text": [
      "[Epoch 40] train loss: 0.124; train acc: 0.96; test loss: 1.385; test acc: 0.70\n"
     ]
    },
    {
     "name": "stderr",
     "output_type": "stream",
     "text": [
      "\n"
     ]
    }
   ],
   "source": [
    "train(train_loader, test_loader, clf, criterion, opt, n_epochs=40)"
   ]
  }
 ],
 "metadata": {
  "kernelspec": {
   "display_name": "base",
   "language": "python",
   "name": "python3"
  },
  "language_info": {
   "codemirror_mode": {
    "name": "ipython",
    "version": 3
   },
   "file_extension": ".py",
   "mimetype": "text/x-python",
   "name": "python",
   "nbconvert_exporter": "python",
   "pygments_lexer": "ipython3",
   "version": "3.9.12"
  },
  "orig_nbformat": 4
 },
 "nbformat": 4,
 "nbformat_minor": 2
}
